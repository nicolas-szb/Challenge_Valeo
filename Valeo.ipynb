{
 "cells": [
  {
   "cell_type": "markdown",
   "metadata": {},
   "source": [
    "# Challenge Valeo"
   ]
  },
  {
   "cell_type": "markdown",
   "metadata": {},
   "source": [
    "https://challengedata.ens.fr/participants/challenges/36/"
   ]
  },
  {
   "cell_type": "code",
   "execution_count": 81,
   "metadata": {},
   "outputs": [],
   "source": [
    "# Import libraries\n",
    "\n",
    "import pandas as pd\n",
    "import numpy as np\n",
    "import seaborn as sns\n",
    "import matplotlib.pyplot as plt\n",
    "\n",
    "from sklearn.model_selection import train_test_split\n",
    "from sklearn.impute import SimpleImputer\n",
    "from sklearn.preprocessing import  OneHotEncoder, StandardScaler, LabelEncoder\n",
    "from sklearn.compose import ColumnTransformer\n"
   ]
  },
  {
   "cell_type": "code",
   "execution_count": 82,
   "metadata": {},
   "outputs": [],
   "source": [
    "# Give some style to my texts\n",
    "\n",
    "class style:\n",
    "   PURPLE = '\\033[95m'\n",
    "   CYAN = '\\033[96m'\n",
    "   DARKCYAN = '\\033[36m'\n",
    "   BLUE = '\\033[94m'\n",
    "   GREEN = '\\033[92m'\n",
    "   YELLOW = '\\033[93m'\n",
    "   RED = '\\033[91m'\n",
    "   BOLD = '\\033[1m'\n",
    "   UNDERLINE = '\\033[4m'\n",
    "   END = '\\033[0m'"
   ]
  },
  {
   "cell_type": "markdown",
   "metadata": {},
   "source": [
    "## Importer les données"
   ]
  },
  {
   "cell_type": "code",
   "execution_count": 83,
   "metadata": {},
   "outputs": [],
   "source": [
    "data_x = pd.read_csv('x_train.csv')\n",
    "data_y = pd.read_csv('y_train.csv')"
   ]
  },
  {
   "cell_type": "code",
   "execution_count": 84,
   "metadata": {},
   "outputs": [],
   "source": [
    "data = data_x.join(data_y.set_index('PROC_TRACEINFO'), on='PROC_TRACEINFO')"
   ]
  },
  {
   "cell_type": "markdown",
   "metadata": {},
   "source": [
    "## Analyse des données"
   ]
  },
  {
   "cell_type": "code",
   "execution_count": 85,
   "metadata": {},
   "outputs": [
    {
     "name": "stdout",
     "output_type": "stream",
     "text": [
      "\u001b[1mFeatures description: \n",
      "\u001b[0m                     PROC_TRACEINFO  OP070_V_1_angle_value  \\\n",
      "count                        34515           34515.000000   \n",
      "unique                       34515                    NaN   \n",
      "top     I-B-XA1207672-190530-03680                    NaN   \n",
      "freq                             1                    NaN   \n",
      "mean                           NaN             159.906922   \n",
      "std                            NaN              15.662650   \n",
      "min                            NaN             101.800000   \n",
      "25%                            NaN             148.700000   \n",
      "50%                            NaN             158.000000   \n",
      "75%                            NaN             169.300000   \n",
      "max                            NaN             198.300000   \n",
      "\n",
      "        OP090_SnapRingPeakForce_value  OP070_V_2_angle_value  \\\n",
      "count                    34515.000000           34515.000000   \n",
      "unique                            NaN                    NaN   \n",
      "top                               NaN                    NaN   \n",
      "freq                              NaN                    NaN   \n",
      "mean                       156.915055             159.618236   \n",
      "std                         11.271492              15.091490   \n",
      "min                          0.000000              82.000000   \n",
      "25%                        149.210000             149.400000   \n",
      "50%                        156.180000             158.700000   \n",
      "75%                        164.380000             168.900000   \n",
      "max                        196.920000             198.100000   \n",
      "\n",
      "        OP120_Rodage_I_mesure_value  OP090_SnapRingFinalStroke_value  \\\n",
      "count                  34515.000000                     34515.000000   \n",
      "unique                          NaN                              NaN   \n",
      "top                             NaN                              NaN   \n",
      "freq                            NaN                              NaN   \n",
      "mean                     113.350222                        11.970190   \n",
      "std                        3.528522                         0.169873   \n",
      "min                       99.990000                         0.000000   \n",
      "25%                      111.040000                        11.850000   \n",
      "50%                      113.160000                        12.040000   \n",
      "75%                      115.380000                        12.080000   \n",
      "max                      177.950000                        12.190000   \n",
      "\n",
      "        OP110_Vissage_M8_torque_value  OP100_Capuchon_insertion_mesure  \\\n",
      "count                    34515.000000                     15888.000000   \n",
      "unique                            NaN                              NaN   \n",
      "top                               NaN                              NaN   \n",
      "freq                              NaN                              NaN   \n",
      "mean                        12.256785                         0.388173   \n",
      "std                          0.065319                         0.024425   \n",
      "min                         12.030000                         0.240000   \n",
      "25%                         12.210000                         0.380000   \n",
      "50%                         12.260000                         0.390000   \n",
      "75%                         12.300000                         0.410000   \n",
      "max                         12.500000                         0.420000   \n",
      "\n",
      "        OP120_Rodage_U_mesure_value  OP070_V_1_torque_value  \\\n",
      "count                  34515.000000            34515.000000   \n",
      "unique                          NaN                     NaN   \n",
      "top                             NaN                     NaN   \n",
      "freq                            NaN                     NaN   \n",
      "mean                      11.971027                6.548403   \n",
      "std                        0.003050                0.097602   \n",
      "min                       11.970000                5.670000   \n",
      "25%                       11.970000                6.410000   \n",
      "50%                       11.970000                6.610000   \n",
      "75%                       11.970000                6.620000   \n",
      "max                       11.990000                6.670000   \n",
      "\n",
      "        OP090_StartLinePeakForce_value  OP110_Vissage_M8_angle_value  \\\n",
      "count                     34515.000000                  34515.000000   \n",
      "unique                             NaN                           NaN   \n",
      "top                                NaN                           NaN   \n",
      "freq                               NaN                           NaN   \n",
      "mean                         23.630152                     17.878398   \n",
      "std                           2.546341                      6.785079   \n",
      "min                           0.000000                      6.300000   \n",
      "25%                          22.280000                     13.500000   \n",
      "50%                          23.880000                     16.400000   \n",
      "75%                          25.290000                     20.200000   \n",
      "max                          43.410000                     84.600000   \n",
      "\n",
      "        OP090_SnapRingMidPointForce_val  OP070_V_2_torque_value  \\\n",
      "count                      34515.000000            34515.000000   \n",
      "unique                              NaN                     NaN   \n",
      "top                                 NaN                     NaN   \n",
      "freq                                NaN                     NaN   \n",
      "mean                          97.700978                6.550867   \n",
      "std                            6.837714                0.094814   \n",
      "min                            0.000000                5.740000   \n",
      "25%                           94.310000                6.420000   \n",
      "50%                           98.500000                6.610000   \n",
      "75%                          102.230000                6.610000   \n",
      "max                          127.300000                6.670000   \n",
      "\n",
      "        Binar OP130_Resultat_Global_v  \n",
      "count                    34515.000000  \n",
      "unique                            NaN  \n",
      "top                               NaN  \n",
      "freq                              NaN  \n",
      "mean                         0.008837  \n",
      "std                          0.093589  \n",
      "min                          0.000000  \n",
      "25%                          0.000000  \n",
      "50%                          0.000000  \n",
      "75%                          0.000000  \n",
      "max                          1.000000  \n",
      "\n",
      "\u001b[1minitial dataset shape: \n",
      "\u001b[0m (34515, 15)\n",
      "\n",
      "\u001b[1mFeatures types: \n",
      "\u001b[0m PROC_TRACEINFO                      object\n",
      "OP070_V_1_angle_value              float64\n",
      "OP090_SnapRingPeakForce_value      float64\n",
      "OP070_V_2_angle_value              float64\n",
      "OP120_Rodage_I_mesure_value        float64\n",
      "OP090_SnapRingFinalStroke_value    float64\n",
      "OP110_Vissage_M8_torque_value      float64\n",
      "OP100_Capuchon_insertion_mesure    float64\n",
      "OP120_Rodage_U_mesure_value        float64\n",
      "OP070_V_1_torque_value             float64\n",
      "OP090_StartLinePeakForce_value     float64\n",
      "OP110_Vissage_M8_angle_value       float64\n",
      "OP090_SnapRingMidPointForce_val    float64\n",
      "OP070_V_2_torque_value             float64\n",
      "Binar OP130_Resultat_Global_v        int64\n",
      "dtype: object\n",
      "\n",
      "\u001b[1mMissing values: \n",
      "\u001b[0m PROC_TRACEINFO                     False\n",
      "OP070_V_1_angle_value              False\n",
      "OP090_SnapRingPeakForce_value      False\n",
      "OP070_V_2_angle_value              False\n",
      "OP120_Rodage_I_mesure_value        False\n",
      "OP090_SnapRingFinalStroke_value    False\n",
      "OP110_Vissage_M8_torque_value      False\n",
      "OP100_Capuchon_insertion_mesure     True\n",
      "OP120_Rodage_U_mesure_value        False\n",
      "OP070_V_1_torque_value             False\n",
      "OP090_StartLinePeakForce_value     False\n",
      "OP110_Vissage_M8_angle_value       False\n",
      "OP090_SnapRingMidPointForce_val    False\n",
      "OP070_V_2_torque_value             False\n",
      "Binar OP130_Resultat_Global_v      False\n",
      "dtype: bool\n"
     ]
    }
   ],
   "source": [
    "# First look on features\n",
    "\n",
    "print(style.BOLD + \"Features description: \\n\" + style.END, data.describe(include='all'))\n",
    "print()\n",
    "print(style.BOLD + \"initial dataset shape: \\n\" + style.END, data.shape)\n",
    "print()\n",
    "print(style.BOLD + \"Features types: \\n\" + style.END, data.dtypes)\n",
    "print()\n",
    "print(style.BOLD + \"Missing values: \\n\" + style.END, data.isnull().any())"
   ]
  },
  {
   "cell_type": "markdown",
   "metadata": {},
   "source": [
    "- 34515 lignes pour 15 colonnes (dont 1 pour target)\n",
    "- target : 'Binar OP130_Resultat_Global_v'\n",
    "- valeurs manquantes dans OP100_Capuchon_insertion_mesure (18627 soit 53.96784006953499%)\n",
    "- normaliser les features\n",
    "- aucune feature à catégoriser\n",
    "- Y n'est pas à normaliser ou catégoriser\n"
   ]
  },
  {
   "cell_type": "markdown",
   "metadata": {},
   "source": [
    "## Data Viz"
   ]
  },
  {
   "cell_type": "code",
   "execution_count": 86,
   "metadata": {},
   "outputs": [],
   "source": [
    "# plus tard"
   ]
  },
  {
   "cell_type": "markdown",
   "metadata": {},
   "source": [
    "## Preprocessing"
   ]
  },
  {
   "cell_type": "code",
   "execution_count": 87,
   "metadata": {},
   "outputs": [
    {
     "name": "stdout",
     "output_type": "stream",
     "text": [
      "Separating labels from features...\n",
      "...Done.\n",
      "\n",
      "Y : \n",
      "0    0\n",
      "1    0\n",
      "2    0\n",
      "3    0\n",
      "4    0\n",
      "Name: Binar OP130_Resultat_Global_v, dtype: int64\n",
      "\n",
      "X :\n",
      "   OP070_V_1_angle_value  OP090_SnapRingPeakForce_value  \\\n",
      "0                  180.4                         190.51   \n",
      "1                  138.7                         147.70   \n",
      "2                  180.9                         150.87   \n",
      "3                  173.5                         159.56   \n",
      "4                  174.5                         172.29   \n",
      "\n",
      "   OP070_V_2_angle_value  OP120_Rodage_I_mesure_value  \\\n",
      "0                  173.1                       113.64   \n",
      "1                  163.5                       109.77   \n",
      "2                  181.2                       109.79   \n",
      "3                  151.8                       113.25   \n",
      "4                  177.5                       112.88   \n",
      "\n",
      "   OP090_SnapRingFinalStroke_value  OP110_Vissage_M8_torque_value  \\\n",
      "0                            12.04                          12.16   \n",
      "1                            12.12                          12.19   \n",
      "2                            11.86                          12.24   \n",
      "3                            11.82                          12.35   \n",
      "4                            12.07                          12.19   \n",
      "\n",
      "   OP100_Capuchon_insertion_mesure  OP120_Rodage_U_mesure_value  \\\n",
      "0                              NaN                        11.97   \n",
      "1                             0.39                        11.97   \n",
      "2                              NaN                        11.97   \n",
      "3                             0.39                        11.97   \n",
      "4                              NaN                        11.97   \n",
      "\n",
      "   OP070_V_1_torque_value  OP090_StartLinePeakForce_value  \\\n",
      "0                    6.62                           26.37   \n",
      "1                    6.41                           21.03   \n",
      "2                    6.62                           25.81   \n",
      "3                    6.62                           24.62   \n",
      "4                    6.62                           29.22   \n",
      "\n",
      "   OP110_Vissage_M8_angle_value  OP090_SnapRingMidPointForce_val  \\\n",
      "0                          18.8                           109.62   \n",
      "1                          18.5                           105.48   \n",
      "2                          17.5                           100.03   \n",
      "3                          15.6                           104.94   \n",
      "4                          33.6                            99.19   \n",
      "\n",
      "   OP070_V_2_torque_value  \n",
      "0                    6.60  \n",
      "1                    6.40  \n",
      "2                    6.61  \n",
      "3                    6.61  \n",
      "4                    6.61  \n"
     ]
    }
   ],
   "source": [
    "# Separate target variable Y from features X\n",
    "print(\"Separating labels from features...\")\n",
    "features_list = list(data.columns[1:-1])\n",
    "target_variable = 'Binar OP130_Resultat_Global_v'\n",
    "\n",
    "X = data.loc[:,features_list]\n",
    "Y = data.loc[:,target_variable]\n",
    "\n",
    "print(\"...Done.\")\n",
    "print()\n",
    "\n",
    "print('Y : ')\n",
    "print(Y.head())\n",
    "print()\n",
    "print('X :')\n",
    "print(X.head())"
   ]
  },
  {
   "cell_type": "code",
   "execution_count": 88,
   "metadata": {},
   "outputs": [
    {
     "name": "stdout",
     "output_type": "stream",
     "text": [
      "Found numeric features  ['OP070_V_1_angle_value', 'OP090_SnapRingPeakForce_value', 'OP070_V_2_angle_value', 'OP120_Rodage_I_mesure_value', 'OP090_SnapRingFinalStroke_value', 'OP110_Vissage_M8_torque_value', 'OP100_Capuchon_insertion_mesure', 'OP120_Rodage_U_mesure_value', 'OP070_V_1_torque_value', 'OP090_StartLinePeakForce_value', 'OP110_Vissage_M8_angle_value', 'OP090_SnapRingMidPointForce_val', 'OP070_V_2_torque_value']  at positions  [0, 1, 2, 3, 4, 5, 6, 7, 8, 9, 10, 11, 12]\n",
      "Found categorical features  []  at positions  []\n"
     ]
    }
   ],
   "source": [
    "idx = 0\n",
    "numeric_features = []\n",
    "numeric_indices = []\n",
    "categorical_features = []\n",
    "categorical_indices = []\n",
    "for i,t in X.dtypes.iteritems():\n",
    "  if ('float' in str(t)) or ('int' in str(t)) :\n",
    "    numeric_features.append(i)\n",
    "    numeric_indices.append(idx)\n",
    "  else :\n",
    "    categorical_features.append(i)\n",
    "    categorical_indices.append(idx)\n",
    "\n",
    "  idx = idx + 1\n",
    "\n",
    "print('Found numeric features ', numeric_features,' at positions ', numeric_indices)\n",
    "print('Found categorical features ', categorical_features,' at positions ', categorical_indices)"
   ]
  },
  {
   "cell_type": "code",
   "execution_count": 89,
   "metadata": {},
   "outputs": [
    {
     "name": "stdout",
     "output_type": "stream",
     "text": [
      "Dividing into train and test sets...\n",
      "...Done.\n",
      "\n"
     ]
    }
   ],
   "source": [
    "# Divide dataset Train set & Test set \n",
    "print(\"Dividing into train and test sets...\")\n",
    "X_train, X_test, Y_train, Y_test = train_test_split(X, Y, test_size=0.2, \n",
    "                                                    random_state=42, stratify=Y)\n",
    "print(\"...Done.\")\n",
    "print()"
   ]
  },
  {
   "cell_type": "code",
   "execution_count": 90,
   "metadata": {},
   "outputs": [
    {
     "name": "stdout",
     "output_type": "stream",
     "text": [
      "Convert pandas DataFrames to numpy arrays...\n",
      "...Done\n"
     ]
    }
   ],
   "source": [
    "# Convert pandas DataFrames to numpy arrays before using scikit-learn\n",
    "print(\"Convert pandas DataFrames to numpy arrays...\")\n",
    "X_train = X_train.values\n",
    "X_test = X_test.values\n",
    "Y_train = Y_train.tolist()\n",
    "Y_test = Y_test.tolist()\n",
    "print(\"...Done\")"
   ]
  },
  {
   "cell_type": "markdown",
   "metadata": {},
   "source": [
    "## Training pipeline"
   ]
  },
  {
   "cell_type": "code",
   "execution_count": 91,
   "metadata": {},
   "outputs": [
    {
     "name": "stdout",
     "output_type": "stream",
     "text": [
      "Imputing missing values...\n",
      "[[172.3  143.24 166.2  119.85  11.9   12.4     nan  11.97   6.61  23.07\n",
      "   10.6   95.5    6.61]\n",
      " [154.1  153.71 169.7  109.63  12.09  12.35   0.42  11.97   6.4   23.92\n",
      "   11.6  104.11   6.41]\n",
      " [149.3  145.82 158.9  108.89  12.12  12.25   0.39  11.97   6.4   18.51\n",
      "   14.3   86.8    6.41]\n",
      " [197.9  157.39 187.6  111.65  11.7   12.4     nan  11.97   6.34  23.14\n",
      "    9.2   95.3    6.6 ]\n",
      " [152.1  176.02 148.3  116.29  11.87  12.15    nan  11.97   6.6   22.35\n",
      "   26.4   95.16   6.61]]\n",
      "\n",
      "...Fini!\n"
     ]
    }
   ],
   "source": [
    "# Missing values\n",
    "print(\"Imputing missing values...\")\n",
    "print(X_train[0:5,:])\n",
    "print()\n",
    "imputer = SimpleImputer(strategy=\"mean\")\n",
    "X_train[:,numeric_indices] = imputer.fit_transform(X_train[:,numeric_indices])\n",
    "print(\"...Fini!\")\n"
   ]
  },
  {
   "cell_type": "code",
   "execution_count": 92,
   "metadata": {},
   "outputs": [
    {
     "name": "stdout",
     "output_type": "stream",
     "text": [
      "Encoding categorical features and standardizing numerical features...\n",
      "\n",
      "[[172.3        143.24       166.2        119.85        11.9\n",
      "   12.4          0.38817523  11.97         6.61        23.07\n",
      "   10.6         95.5          6.61      ]\n",
      " [154.1        153.71       169.7        109.63        12.09\n",
      "   12.35         0.42        11.97         6.4         23.92\n",
      "   11.6        104.11         6.41      ]\n",
      " [149.3        145.82       158.9        108.89        12.12\n",
      "   12.25         0.39        11.97         6.4         18.51\n",
      "   14.3         86.8          6.41      ]\n",
      " [197.9        157.39       187.6        111.65        11.7\n",
      "   12.4          0.38817523  11.97         6.34        23.14\n",
      "    9.2         95.3          6.6       ]\n",
      " [152.1        176.02       148.3        116.29        11.87\n",
      "   12.15         0.38817523  11.97         6.6         22.35\n",
      "   26.4         95.16         6.61      ]]\n",
      "...Done\n"
     ]
    }
   ],
   "source": [
    "# Encoding categorical features and standardizing numerical features\n",
    "print(\"Encoding categorical features and standardizing numerical features...\")\n",
    "print()\n",
    "print(X_train[0:5,:])\n",
    "\n",
    "# Normalization\n",
    "numeric_transformer = StandardScaler()\n",
    "\n",
    "# OHE / dummyfication\n",
    "categorical_transformer = OneHotEncoder(drop='first')\n",
    "\n",
    "featureencoder = ColumnTransformer(\n",
    "    transformers=[\n",
    "        ('cat', categorical_transformer, categorical_indices),    \n",
    "        ('num', numeric_transformer, numeric_indices)\n",
    "        ]\n",
    "    )\n",
    "\n",
    "X_train = featureencoder.fit_transform(X_train)\n",
    "print(\"...Done\")\n"
   ]
  },
  {
   "cell_type": "code",
   "execution_count": 93,
   "metadata": {},
   "outputs": [
    {
     "data": {
      "text/plain": [
       "'\\n# Encoding labels\\nprint(\"Encoding labels...\")\\nprint()\\nlabelencoder = LabelEncoder()\\nY_train = labelencoder.fit_transform(Y_train)\\nprint(\"...Done.\")\\n'"
      ]
     },
     "execution_count": 93,
     "metadata": {},
     "output_type": "execute_result"
    }
   ],
   "source": [
    "'''\n",
    "# Encoding labels\n",
    "print(\"Encoding labels...\")\n",
    "print()\n",
    "labelencoder = LabelEncoder()\n",
    "Y_train = labelencoder.fit_transform(Y_train)\n",
    "print(\"...Done.\")\n",
    "'''"
   ]
  },
  {
   "cell_type": "markdown",
   "metadata": {},
   "source": [
    "## Test pipeline"
   ]
  },
  {
   "cell_type": "code",
   "execution_count": 94,
   "metadata": {},
   "outputs": [
    {
     "name": "stdout",
     "output_type": "stream",
     "text": [
      "Imputing missing values...\n",
      "[[154.3  180.54 135.3  112.83  12.06  12.18    nan  11.97   6.62  23.13\n",
      "   21.8  105.86   6.62]\n",
      " [162.9  155.39 152.3  113.89  12.05  12.2    0.41  11.97   6.42  21.97\n",
      "   21.5  102.77   6.41]\n",
      " [161.2  139.4  139.   115.66  11.84  12.19   0.34  11.97   6.6   23.32\n",
      "   25.5   93.51   6.63]\n",
      " [165.5  139.68 138.8  114.95  12.1   12.24   0.41  11.97   6.42  20.62\n",
      "   14.3   95.94   6.41]\n",
      " [144.5  146.23 169.2  112.15  11.84  12.36    nan  11.97   6.62  27.94\n",
      "   15.7  105.17   6.61]]\n",
      "\n",
      "...Done.\n",
      "[[154.3        180.54       135.3        112.83        12.06\n",
      "   12.18         0.38817523  11.97         6.62        23.13\n",
      "   21.8        105.86         6.62      ]\n",
      " [162.9        155.39       152.3        113.89        12.05\n",
      "   12.2          0.41        11.97         6.42        21.97\n",
      "   21.5        102.77         6.41      ]\n",
      " [161.2        139.4        139.         115.66        11.84\n",
      "   12.19         0.34        11.97         6.6         23.32\n",
      "   25.5         93.51         6.63      ]\n",
      " [165.5        139.68       138.8        114.95        12.1\n",
      "   12.24         0.41        11.97         6.42        20.62\n",
      "   14.3         95.94         6.41      ]\n",
      " [144.5        146.23       169.2        112.15        11.84\n",
      "   12.36         0.38817523  11.97         6.62        27.94\n",
      "   15.7        105.17         6.61      ]]\n",
      "\n"
     ]
    }
   ],
   "source": [
    "# Missing values\n",
    "print(\"Imputing missing values...\")\n",
    "print(X_test[0:5,:])\n",
    "print()\n",
    "\n",
    "X_test[:,numeric_indices] = imputer.transform(X_test[:,numeric_indices])\n",
    "print(\"...Done.\")\n",
    "print(X_test[0:5,:]) \n",
    "print() "
   ]
  },
  {
   "cell_type": "code",
   "execution_count": 95,
   "metadata": {},
   "outputs": [
    {
     "name": "stdout",
     "output_type": "stream",
     "text": [
      "Encoding categorical features and standardizing numerical features...\n",
      "...Done\n"
     ]
    }
   ],
   "source": [
    "# Encoding categorical features and standardizing numerical features\n",
    "print(\"Encoding categorical features and standardizing numerical features...\")\n",
    "X_test = featureencoder.transform(X_test)\n",
    "print(\"...Done\")\n"
   ]
  },
  {
   "cell_type": "code",
   "execution_count": 96,
   "metadata": {},
   "outputs": [
    {
     "data": {
      "text/plain": [
       "'\\n# Encoding labels\\nprint(\"Encoding labels...\")\\n\\nY_test = labelencoder.transform(Y_test)\\nprint(\"...Done.\")\\n'"
      ]
     },
     "execution_count": 96,
     "metadata": {},
     "output_type": "execute_result"
    }
   ],
   "source": [
    "'''\n",
    "# Encoding labels\n",
    "print(\"Encoding labels...\")\n",
    "\n",
    "Y_test = labelencoder.transform(Y_test)\n",
    "print(\"...Done.\")\n",
    "'''"
   ]
  },
  {
   "cell_type": "code",
   "execution_count": 97,
   "metadata": {},
   "outputs": [],
   "source": [
    "# A partir d'ici je commence les modèles"
   ]
  },
  {
   "cell_type": "code",
   "execution_count": null,
   "metadata": {},
   "outputs": [],
   "source": []
  }
 ],
 "metadata": {
  "kernelspec": {
   "display_name": "Python 3",
   "language": "python",
   "name": "python3"
  },
  "language_info": {
   "codemirror_mode": {
    "name": "ipython",
    "version": 3
   },
   "file_extension": ".py",
   "mimetype": "text/x-python",
   "name": "python",
   "nbconvert_exporter": "python",
   "pygments_lexer": "ipython3",
   "version": "3.7.7"
  }
 },
 "nbformat": 4,
 "nbformat_minor": 2
}
